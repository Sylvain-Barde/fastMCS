{
 "cells": [
  {
   "cell_type": "markdown",
   "id": "63e9691a",
   "metadata": {},
   "source": [
    "## Demo for the fastMCS toolbox\n",
    "\n",
    "This notebook provides a demo for the fast implementation of the Model Confidence Set algorithm (`fastMCS`). In particular, it verifies that `fastMCS` produces the same output as the standard eliination MCS as well as demonstrating the ability to update an existing MCS estimation with extra model losses.\n",
    "\n",
    "Let's start with some standard imports:"
   ]
  },
  {
   "cell_type": "code",
   "execution_count": 1,
   "id": "b48d7208",
   "metadata": {},
   "outputs": [],
   "source": [
    "import numpy as np\n",
    "\n",
    "from matplotlib import pyplot as plt\n",
    "from numpy.random import default_rng\n",
    "from scipy.stats import norm\n",
    "from fastMCS import mcs"
   ]
  },
  {
   "cell_type": "markdown",
   "id": "8a7fdec2",
   "metadata": {},
   "source": [
    "### Data generating process\n",
    "\n",
    "The demo is analysis is based on the synthetic data generating process (DGP) used in section 5.1 (page 477) of Hansen et. al. (2011). This is the same analysis as used in the fastMCS manuscript. The loss for model $i$ in observation $n$ is given by:\n",
    "\n",
    "$$L_{n,i}  = \\theta _i  + \\frac{a_n}{\\sqrt {E\\left[ {a_n^2 } \\right]} }X_{n,i}$$\n",
    "\n",
    "Where\n",
    "\n",
    "$$\\left\\{ \\begin{array}{l}\n",
    " \\theta _i  = \\frac{\\lambda }{\\sqrt N }\\left( {0,\\frac{1}{{M - 1}},...,\\frac{M - 2}{M - 1},1} \\right)  \\\\\n",
    " a_n  = \\exp \\left( y_n \\right) \\\\\n",
    " y_n  =  - \\frac{\\varphi }{2\\left( {1 + \\varphi } \\right)} + \\varphi y_{n - 1}  + \\sqrt \\varphi  \\epsilon _n \\\\\n",
    " \\end{array} \\right.$$\n",
    "\n",
    "The behaviour of the losses are controlled by 3 parameters. $\\lambda$, controls the dispersion of the mean loss $\\theta_i$ of each model, $\\rho$ controls the degree of correlation of losses across models and $\\varphi$ allows for the possibility of conditional heteroskedasticity (GARCH-like effects) in the losses. The function impleting this DGP is defined below:"
   ]
  },
  {
   "cell_type": "code",
   "execution_count": 2,
   "id": "1a6bd483",
   "metadata": {},
   "outputs": [],
   "source": [
    "def genLosses(lmbda, rho, phi, M, N, seed = 0, shuffle = True):\n",
    "    \"\"\"\n",
    "    Generate synthetic losses for the benchmarking exercise. \n",
    "\n",
    "    Parameters\n",
    "    ----------\n",
    "    lmbda : float\n",
    "        Lambda parameter, controls the relative performance of different models\n",
    "        (higher lambda -> models are easier to distinguish)\n",
    "    rho : float\n",
    "        Controls the correlation between model losses.\n",
    "    phi : float\n",
    "        Controls the level of conditional heteroskedasticity (GARCH effects) in\n",
    "        model losses\n",
    "    M : Int\n",
    "        Number of models desired\n",
    "    N : int\n",
    "        Number of observations\n",
    "    seed : flaot, optional\n",
    "        Seed for the random number generator. The default is 0.\n",
    "    shuffle : boolean, optional\n",
    "        Controls whether losses are returned ordered or shuffled.\n",
    "        - If set to False, losses are returned 'as generated', ordered with \n",
    "          model 1 displayignt ht lowest average loss and model M the highest.\n",
    "        - If set to True, columns of L are shuffled so that the average \n",
    "          performance of models is randomised\n",
    "        The default is True.\n",
    "\n",
    "    Returns\n",
    "    -------\n",
    "    L : ndarray\n",
    "        2D ndarray of synthetic losses. Structure is N x M\n",
    "\n",
    "    \"\"\"\n",
    "    \n",
    "    rng = default_rng(seed = seed)\n",
    "    \n",
    "    theta = lmbda*np.arange(0,M)/((M-1)*N**0.5)\n",
    "\n",
    "    S = np.ones([M,M])*rho + np.diag(np.ones(M) - rho)\n",
    "    Sroot = np.linalg.cholesky(S)\n",
    "    X = Sroot @ norm.ppf(rng.random((M,N)))   # Correlated shocks\n",
    "    \n",
    "    e = norm.ppf(rng.random(N+1))\n",
    "    y = np.zeros(N+1)\n",
    "    y[0] = -phi/(2*(1+phi)) + e[0]*phi**0.5\n",
    "    for i in range(1,N+1):\n",
    "        y[i] = -phi/(2*(1+phi)) + y[i-1]*phi + e[i]*phi**0.5\n",
    "    \n",
    "    a = np.exp(y[1:N+1])\n",
    "    \n",
    "    L = a[:,None]*X.transpose()\n",
    "    L /= np.std(L,axis = 0)[None,:]\n",
    "    L += theta[None,:]\n",
    "    if shuffle:\n",
    "        # generate column permutation\n",
    "        perm = np.arange(0,M)\n",
    "        rng.shuffle(perm)\n",
    "        L = L[:,perm]\n",
    "    \n",
    "    return L\n"
   ]
  },
  {
   "cell_type": "markdown",
   "id": "fcc9a6a7",
   "metadata": {},
   "source": [
    "By default the loss function shuffles the columns of the loss matrix, in order to ensure that the model losses do not possess any systematic ordering in terms of average performance.\n",
    "\n",
    "To get started, we'll set some parameter values. For $\\lambda$, $\\rho$ and $\\phi$, let's just use the midpoints of the ranges used in the original analysis. The number of models $M$ is set to 500, with $N=$ 250 empirical observations. The number of bootstrap replications $B$ for the analysis is set to 1000, with a block width $b$ of 10. A fixed seed is specified in order to ensure that the various MCS algorithms implemented all use the same set of bootstrap indices.\n",
    "\n",
    "**NOTE:** When rerunning the notebook and playing around with the number of models, be careful not to increase $M$ too far above 500, as the memory requirements will rapidly grow beyong 8GB."
   ]
  },
  {
   "cell_type": "code",
   "execution_count": 3,
   "id": "3edcff8f",
   "metadata": {},
   "outputs": [],
   "source": [
    "# Set some parameters and generate losses\n",
    "lmbda, rho, phi = (22,0.5,0.4)\n",
    "numMods = 500                   # pick an even number!\n",
    "numObs = 250\n",
    "seed = 50\n",
    "B = 1000\n",
    "b = 10\n",
    "\n",
    "# Generate synthetic losses for the comparison exercise\n",
    "losses = genLosses(lmbda, rho, phi, numMods, numObs, seed = seed)"
   ]
  },
  {
   "cell_type": "markdown",
   "id": "a62b462c",
   "metadata": {},
   "source": [
    "### Standard elimination MCS\n",
    "\n",
    "In order to provide a benchmark for the analysis, we need to run the standard elimination MCS. The `fastMCS` module has this as one of the options, selected by setting the `algorithm` option to `'elimination'`. The analysis uses the stationary bootstrap of Politis & Romano (1994) by default, but a standard block bootstrap is available, selected by setting `bootstrap` to `'block'`. The model rankings and corresponding p-values are saved for later comparison against the fast updating algoriothm."
   ]
  },
  {
   "cell_type": "code",
   "execution_count": 4,
   "id": "05cde998",
   "metadata": {},
   "outputs": [
    {
     "name": "stdout",
     "output_type": "stream",
     "text": [
      "───────────────────────────────────────────────────────────────────────────\n",
      " Creating new MCS object\n",
      "───────────────────────────────────────────────────────────────────────────\n",
      " Added losses: 250 obs x 500 models\n",
      "───────────────────────────────────────────────────────────────────────────\n",
      " Running elimination MCS analysis\n",
      "\n",
      " Computational requirements:\n",
      " Time (sec): 123.782    Memory (MB): 6020.027\n"
     ]
    }
   ],
   "source": [
    "# Run the original elimination MCS\n",
    "mcsEst0 = mcs(seed = seed)\n",
    "mcsEst0.addLosses(losses)\n",
    "mcsEst0.run(B,b, bootstrap = 'stationary', algorithm = 'elimination')\n",
    "\n",
    "# Get 90% MCS  \n",
    "incl0, excl0 = mcsEst0.getMCS(alpha = 0.1)\n",
    "rank0 = np.concatenate((excl0,incl0))\n",
    "tScore0 = mcsEst0.tScore\n",
    "pVals0 = mcsEst0.pVals\n",
    "\n",
    "# Get run time and memory, print output\n",
    "t0 = mcsEst0.stats[0]['time']       \n",
    "mem0 = mcsEst0.stats[0]['memory use']*10**-6\n",
    "print('\\n Computational requirements:')\n",
    "print(' Time (sec): {:.3f}    Memory (MB): {:.3f}'.format(t0,mem0))\n"
   ]
  },
  {
   "cell_type": "markdown",
   "id": "bde8c43f",
   "metadata": {},
   "source": [
    "The `fastMCS` module logs the time taken and memory required in its `stats` attribute. This reveals that the run takes a little bit more than 2 minutes, and required 6GB of RAM.\n",
    "\n",
    "### 2-pass fastMCS\n",
    "\n",
    "We now run the 2-pass updating algorithm. The run settings are identical to those used for the elimination implementation, including the seed with which the `mcs` object is initialised. The code below explicitly sets the 2-pass algorithm, however this is also the default for the module. Given that the stationary bootstrap is also the default the same result is obtained if one simply calls:\n",
    "\n",
    "```\n",
    "mcsEst2.run(B,b)\n",
    "```\n"
   ]
  },
  {
   "cell_type": "code",
   "execution_count": 5,
   "id": "c1aa6dcf",
   "metadata": {},
   "outputs": [
    {
     "name": "stdout",
     "output_type": "stream",
     "text": [
      "───────────────────────────────────────────────────────────────────────────\n",
      " Creating new MCS object\n",
      "───────────────────────────────────────────────────────────────────────────\n",
      " Added losses: 250 obs x 500 models\n",
      "───────────────────────────────────────────────────────────────────────────\n",
      " Running 2-pass MCS analysis\n",
      "\n",
      " Computational requirements:\n",
      " Time (sec): 3.609    Memory (MB): 22.008\n"
     ]
    }
   ],
   "source": [
    "# Run the 2-pass fast MCS\n",
    "mcsEst2 = mcs(seed = seed)\n",
    "mcsEst2.addLosses(losses)\n",
    "mcsEst2.run(B,b, bootstrap = 'stationary', algorithm = '2-pass')\n",
    "\n",
    "# Get 90% MCS  \n",
    "incl2, excl2 = mcsEst2.getMCS(alpha = 0.1)\n",
    "rank2 = np.concatenate((excl2,incl2))\n",
    "tScore2 = mcsEst2.tScore\n",
    "pVals2 = mcsEst2.pVals\n",
    "\n",
    "# Get run time and memory\n",
    "t2 = mcsEst2.stats[0]['time']       \n",
    "mem2 = mcsEst2.stats[0]['memory use']*10**-6\n",
    "print('\\n Computational requirements:')\n",
    "print(' Time (sec): {:.3f}    Memory (MB): {:.3f}'.format(t2,mem2))"
   ]
  },
  {
   "cell_type": "markdown",
   "id": "d82c5de6",
   "metadata": {},
   "source": [
    "The time and memory diagnostics reveal a dramatic improvement. The run took just under 4 seconds and only required 22MB of RAM. This results from the polynomial order reduction in time complexity and memory requirement brought on by the 2-pass updating fastMCS algorithm, reducing the former from $\\mathcal{O}(M^3)$ to $\\mathcal{O}(M^2)$ and the latter from $\\mathcal{O}(M^2)$ to $\\mathcal{O}(M)$.\n",
    "\n",
    "Having obtained the model rankings and p-values produced by the 2-pass updating fastMCS algorithm, we can quickly check that they match those produced by the elimination verson:"
   ]
  },
  {
   "cell_type": "code",
   "execution_count": 6,
   "id": "3fa47908",
   "metadata": {},
   "outputs": [
    {
     "name": "stdout",
     "output_type": "stream",
     "text": [
      "\n",
      " Model rankings the same as elimination? - True\n",
      " Model p-values the same as elimination? - True\n",
      " Mean absolute deviation in P-values from elimination: 0.000\n"
     ]
    }
   ],
   "source": [
    "# Compare model rankings and P-values\n",
    "print('\\n Model rankings the same as elimination? - {}'.format(\n",
    "        np.array_equal(rank2,rank0))\n",
    "      )\n",
    "print(' Model p-values the same as elimination? - {}'.format(\n",
    "        np.array_equal(pVals2,pVals0))\n",
    "     )\n",
    "print(' Mean absolute deviation in P-values from elimination: {:.3f}'.format(\n",
    "        np.mean(np.abs(pVals2-pVals0)))\n",
    "      )"
   ]
  },
  {
   "cell_type": "markdown",
   "id": "d54cdb07",
   "metadata": {},
   "source": [
    "### Updating an existing MCS analysis with the 1-pass fastMCS\n",
    "\n",
    "The inutition behind the fastMCS implementation is to reverse the standard elimination procedure: rather than start with a full collection of models and iteratively eliminate the workt perofming, the algorithm instead starts with a one-model collection and iteratively adds models to it, updating the eminination statistics and associated p-values. As a result, it becomes possible to process a collection of models in multiple stemps, opening the possibility of  large-scale collaborative comparisions.\n",
    "\n",
    "In order to illustrate this, the original loss matrix is split into two parts, and the the 2-pass `fastMCS` module is used to analyise the first half."
   ]
  },
  {
   "cell_type": "code",
   "execution_count": 7,
   "id": "23e4730c",
   "metadata": {},
   "outputs": [
    {
     "name": "stdout",
     "output_type": "stream",
     "text": [
      "───────────────────────────────────────────────────────────────────────────\n",
      " Creating new MCS object\n",
      "───────────────────────────────────────────────────────────────────────────\n",
      " Added losses: 250 obs x 250 models\n",
      "───────────────────────────────────────────────────────────────────────────\n",
      " Running 2-pass MCS analysis\n",
      "\n",
      " Computational requirements(losses_1):\n",
      " Time (sec): 0.912    Memory (MB): 11.497\n"
     ]
    }
   ],
   "source": [
    "# Run an updating demonstration\n",
    "losses_1 = losses[:,0:int(numMods/2)]\n",
    "losses_2 = losses[:,int(numMods/2):numMods]\n",
    "\n",
    "# Run the 2-pass fast MCS on the first part of the losses\n",
    "mcsEst1 = mcs(seed = seed)\n",
    "mcsEst1.addLosses(losses_1)\n",
    "mcsEst1.run(B,b, bootstrap = 'stationary', algorithm = '2-pass')\n",
    "\n",
    "# Get run time and memory\n",
    "t1 = mcsEst1.stats[0]['time']       \n",
    "mem1 = mcsEst1.stats[0]['memory use']*10**-6\n",
    "print('\\n Computational requirements(losses_1):')\n",
    "print(' Time (sec): {:.3f}    Memory (MB): {:.3f}'.format(t1,mem1))"
   ]
  },
  {
   "cell_type": "markdown",
   "id": "900472ba",
   "metadata": {},
   "source": [
    "The current `mcsEst1` object, containing the analysis can be saved using the `mcsEst1.save(...)` method and shared with others. Creating a new object and using the `.load(...)` method recovers the analysis, which can be updated as illustrated below.\n",
    "\n",
    "The first step is to add losses to the object, which are appended to the existing one (in this case, the second half of the original loss matrix). Note that an error is raised if the number of observations doesn't match the existing losses. Using the `.run()` method with update the existing MCS analysis using the 1-pass algorithm onn the new losses alone."
   ]
  },
  {
   "cell_type": "code",
   "execution_count": 8,
   "id": "875d551b",
   "metadata": {},
   "outputs": [
    {
     "name": "stdout",
     "output_type": "stream",
     "text": [
      "───────────────────────────────────────────────────────────────────────────\n",
      " Added losses: 250 obs x 250 models\n",
      "───────────────────────────────────────────────────────────────────────────\n",
      " Updating existing MCS analysis\n",
      "  No of existing models:   250\n",
      "  No of additional models: 250\n",
      " Running 1-pass MCS analysis\n",
      "\n",
      " Computational requirements (losses_2):\n",
      " Time (sec): 2.163    Memory (MB): 22.027\n"
     ]
    }
   ],
   "source": [
    "# Update the existing MCS with the second part of losses\n",
    "mcsEst1.addLosses(losses_2)\n",
    "mcsEst1.run(B,b)            # This will run with the 1-pass method\n",
    "\n",
    "# Get 90% MCS  \n",
    "incl1, excl1 = mcsEst1.getMCS(alpha = 0.1)\n",
    "rank1 = np.concatenate((excl1,incl1))\n",
    "tScore1 = mcsEst1.tScore\n",
    "pVals1 = mcsEst1.pVals\n",
    "\n",
    "# Get run time and memory\n",
    "t1 = mcsEst1.stats[-1]['time']       \n",
    "mem1 = mcsEst1.stats[-1]['memory use']*10**-6\n",
    "print('\\n Computational requirements (losses_2):')\n",
    "print(' Time (sec): {:.3f}    Memory (MB): {:.3f}'.format(t1,mem1))"
   ]
  },
  {
   "cell_type": "markdown",
   "id": "f9e4f53b",
   "metadata": {},
   "source": [
    "The overall runtime over the two runs and the memory requirement are same as that of the 2-pass implementation. We can again compare the rankings and p-values, as we did for the 2-pass implementation above. "
   ]
  },
  {
   "cell_type": "code",
   "execution_count": 9,
   "id": "39ae6206",
   "metadata": {},
   "outputs": [
    {
     "name": "stdout",
     "output_type": "stream",
     "text": [
      "\n",
      " Model rankings the same as elimination? - True\n",
      " Model p-values the same as elimination? - False\n",
      " Mean absolute deviation in P-values from elimination: 0.001\n"
     ]
    }
   ],
   "source": [
    "# Compare model rankings and P-values\n",
    "print('\\n Model rankings the same as elimination? - {}'.format(\n",
    "        np.array_equal(rank1,rank0))\n",
    "      )\n",
    "print(' Model p-values the same as elimination? - {}'.format(\n",
    "        np.array_equal(pVals1,pVals0))\n",
    "     )\n",
    "print(' Mean absolute deviation in P-values from elimination: {:.3f}'.format(\n",
    "        np.mean(np.abs(pVals1-pVals0)))\n",
    "      )"
   ]
  },
  {
   "cell_type": "markdown",
   "id": "d79908d7",
   "metadata": {},
   "source": [
    "While the model rankings obtained with the 1-pass algorithm, processed in two discrete runs, are identical to those obtained with the elimination approach, the p-values no longer match ***exactly***.\n",
    "\n",
    "This is due to the fact that updating the bootstrapped p-values requires stronger assumptions on the stablility of model rankings from iteration to iteration than the updating of the emilination statistics themselves. For the theoretical details of why this is the case, see Barde (2024).\n",
    "\n",
    "The 2-pass algorithm gets around the problem by processing the p-values in a second pass, once the model rankings have been obtained. This is not possible when updating rankings and p-values in the same pass, therefore the 1-pass algorithm uses a heuristic instead, which explains the slight difference in the p-values.\n",
    "\n",
    "The plot below shows the different p-values obtained wiith the three algorithms over the selimination sequence (models ranked worst to best), in order to better visualise the discrepancy. The p-values of the elimination and 2-pass algorithms (in blue and black respectively) cannot be distinguished. They do not correspiond exactly to the p-values obtained using the 1-pass algorithm, in red, however the difference between the two is negligeable, confirming the effectiveness of the heuristic."
   ]
  },
  {
   "cell_type": "code",
   "execution_count": 10,
   "id": "396405e3",
   "metadata": {},
   "outputs": [
    {
     "data": {
      "image/png": "[encoded data removed]",
      "text/plain": [
       "<Figure size 1200x800 with 1 Axes>"
      ]
     },
     "metadata": {},
     "output_type": "display_data"
    }
   ],
   "source": [
    "# Generate plots\n",
    "fontSize = 14\n",
    "y_min, y_max = (0,1.05)\n",
    "x_min, x_max = (0,numMods+5)\n",
    "\n",
    "fig = plt.figure(figsize=(12,8))\n",
    "ax = fig.add_subplot(1, 1, 1)\n",
    "ax.plot(pVals0,'b', linewidth=1, label = r'Elimination')\n",
    "ax.plot(pVals2,'k', linewidth=1, label = r'2-pass')\n",
    "ax.plot(pVals1,'r', linewidth=1, label = r'1-pass w. updating')\n",
    "\n",
    "ax.legend(loc='upper left', frameon=False, prop={'size':fontSize})\n",
    "ax.set_ylim(top = y_max, bottom = y_min)\n",
    "ax.set_xlim(left = x_min,right = x_max)\n",
    "ax.plot(x_max, y_min, \">k\", ms=15, clip_on=False)\n",
    "ax.plot(x_min, y_max, \"^k\", ms=15, clip_on=False)\n",
    "ax.spines['top'].set_visible(False)\n",
    "ax.spines['right'].set_visible(False)\n",
    "ax.spines['bottom'].set_linewidth(2)\n",
    "ax.spines['left'].set_linewidth(2)\n",
    "ax.tick_params(axis='x', pad=15, labelsize=fontSize)\n",
    "ax.tick_params(axis='y', pad=15, labelsize=fontSize)"
   ]
  },
  {
   "cell_type": "markdown",
   "id": "e3b55aac",
   "metadata": {},
   "source": [
    "### References:\n",
    "\n",
    "- Barde, S, 2024. Large-scale model comparison with fast model confidence sets, *preprint* \n",
    "- Hansen, P.R., Lunde, A. and Nason, J.M., 2011. The model confidence set. *Econometrica*, 79(2), pp.453-497.\n",
    "- Politis, D.N. and Romano, J.P., 1994. The stationary bootstrap. *Journal of the American Statistical association*, 89(428), pp.1303-1313."
   ]
  }
 ],
 "metadata": {
  "kernelspec": {
   "display_name": "Python 3 (ipykernel)",
   "language": "python",
   "name": "python3"
  },
  "language_info": {
   "codemirror_mode": {
    "name": "ipython",
    "version": 3
   },
   "file_extension": ".py",
   "mimetype": "text/x-python",
   "name": "python",
   "nbconvert_exporter": "python",
   "pygments_lexer": "ipython3",
   "version": "3.8.18"
  }
 },
 "nbformat": 4,
 "nbformat_minor": 5
}
